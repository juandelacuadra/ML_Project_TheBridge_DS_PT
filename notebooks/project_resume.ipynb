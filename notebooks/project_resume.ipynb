{
 "cells": [
  {
   "attachments": {},
   "cell_type": "markdown",
   "metadata": {},
   "source": [
    "### Planteamiento"
   ]
  },
  {
   "attachments": {},
   "cell_type": "markdown",
   "metadata": {},
   "source": [
    "Basándonos en un histórico de datos meteorológicos de la ciudad de Sevilla, vamos a hacer una predicción a 7 días mediante el uso de Machine Learning.\n",
    "\n",
    "La primera idea fue pronosticar las precipitaciones, pero el elevado numero de valores a cero en nuestra ciudad hace inviable el cálculo como veremos. Pasamos entonces a la temperatura media diaria.\n",
    "\n",
    "Modelo basado en series temporales."
   ]
  },
  {
   "attachments": {},
   "cell_type": "markdown",
   "metadata": {},
   "source": [
    "### Recogida de datos"
   ]
  },
  {
   "attachments": {},
   "cell_type": "markdown",
   "metadata": {},
   "source": [
    "- Hemos sacado los datos diarios de la estación meteorológica del aeropuerto de sevilla entre el 01/01/1990 y el último registro disponible. A día de cierre de proyecto es el 12/03/2023."
   ]
  },
  {
   "attachments": {},
   "cell_type": "markdown",
   "metadata": {},
   "source": [
    "- Para ello hemos usado la API de la AEMET (Agencia Estatal de Meteorología), en la estación 5783 situada en el Aeropuerto Sevilla / San Pablo.\n",
    "\n"
   ]
  },
  {
   "cell_type": "markdown",
   "metadata": {},
   "source": [
    "        IDEMA - 5783\n",
    "        NOMBRE - SEVILLA AEROPUERTO\n",
    "        LOCALIDAD - SEVILLA\n",
    "        PROVINCIA - SEVILLA\n",
    "        ALTITUD - 34 msnm"
   ]
  },
  {
   "attachments": {},
   "cell_type": "markdown",
   "metadata": {},
   "source": [
    "- De la API (AEMET OpenData API) obtenemos un JSON con los registros diarios de dicha estación. Usaremos los siguientes valores:\n",
    "    1. **tmin** -> Temperatura minima (ºC)\n",
    "    1. **tmax** -> Temperatura máxima (ºC)\n",
    "    1. **tmed** -> Temperatura media (ºC)\n",
    "    1. **presMin** -> Presión mínima (milibares)\n",
    "    1. **presMax** -> Presión máxima (milibares)\n",
    "    1. **dir** -> Dirección del viento en base a los rumbos principales\n",
    "    1. **velmedia** -> Velocidad media del viento (km/h)\n",
    "    1. **racha** -> Velocidad de la racha máxima de viento (km/h)\n",
    "    1. **sol** -> Indice Ultravioleta\n",
    "    1. **prec** -> Precipitación acumulada (l/m2)"
   ]
  },
  {
   "attachments": {},
   "cell_type": "markdown",
   "metadata": {},
   "source": [
    "---"
   ]
  },
  {
   "attachments": {},
   "cell_type": "markdown",
   "metadata": {},
   "source": [
    "### Limpieza de datos"
   ]
  },
  {
   "attachments": {},
   "cell_type": "markdown",
   "metadata": {},
   "source": [
    "Partimos de un volumen bajo de missings (max. de un 3.64%), pero no queremos tener ninguno a la hora de trabajar con el dataset al ser una serie temporal.\n",
    "\n",
    "<img src=\"img\\df_raw_report.png\">\n",
    "\n"
   ]
  },
  {
   "attachments": {},
   "cell_type": "markdown",
   "metadata": {},
   "source": [
    "Tras separar por bloques \"temáticos\", usamos el método 'fillna' combinado con una media móvil. \n",
    "\n",
    "```\n",
    "df_presion = df_presion.fillna(df_presion.rolling(24, center=True, min_periods=1).mean()).round(2)\n",
    "```\n",
    "\n",
    "La ventana de días que usamos para la media varía dependiendo del volumen de missings consecutivos que tengamos para cada conjunto de valores. Partimos por ejemplo de 10 días para las temperaturas, hasta por ejemplo 28 días para el viento. \n",
    "\n",
    "Tras ello, incluimos el target por si queremos usar clasificación y nos queda el DF limpio para empezar a trabajar.\n",
    "\n",
    "<img src=\"img\\df_clean_report.png\">"
   ]
  },
  {
   "cell_type": "code",
   "execution_count": 1,
   "metadata": {},
   "outputs": [
    {
     "data": {
      "text/html": [
       "<div>\n",
       "<style scoped>\n",
       "    .dataframe tbody tr th:only-of-type {\n",
       "        vertical-align: middle;\n",
       "    }\n",
       "\n",
       "    .dataframe tbody tr th {\n",
       "        vertical-align: top;\n",
       "    }\n",
       "\n",
       "    .dataframe thead th {\n",
       "        text-align: right;\n",
       "    }\n",
       "</style>\n",
       "<table border=\"1\" class=\"dataframe\">\n",
       "  <thead>\n",
       "    <tr style=\"text-align: right;\">\n",
       "      <th></th>\n",
       "      <th>fecha</th>\n",
       "      <th>tmin</th>\n",
       "      <th>tmax</th>\n",
       "      <th>tmed</th>\n",
       "      <th>presMin</th>\n",
       "      <th>presMax</th>\n",
       "      <th>dir</th>\n",
       "      <th>velmedia</th>\n",
       "      <th>racha</th>\n",
       "      <th>sol</th>\n",
       "      <th>prec</th>\n",
       "      <th>target</th>\n",
       "    </tr>\n",
       "  </thead>\n",
       "  <tbody>\n",
       "    <tr>\n",
       "      <th>12117</th>\n",
       "      <td>2023-03-06</td>\n",
       "      <td>10.3</td>\n",
       "      <td>15.9</td>\n",
       "      <td>13.1</td>\n",
       "      <td>1008.7</td>\n",
       "      <td>1013.4</td>\n",
       "      <td>21.0</td>\n",
       "      <td>1.9</td>\n",
       "      <td>8.3</td>\n",
       "      <td>0.0</td>\n",
       "      <td>3.3</td>\n",
       "      <td>1</td>\n",
       "    </tr>\n",
       "    <tr>\n",
       "      <th>12118</th>\n",
       "      <td>2023-03-07</td>\n",
       "      <td>12.9</td>\n",
       "      <td>19.7</td>\n",
       "      <td>16.3</td>\n",
       "      <td>1009.8</td>\n",
       "      <td>1013.4</td>\n",
       "      <td>22.0</td>\n",
       "      <td>3.9</td>\n",
       "      <td>10.3</td>\n",
       "      <td>3.2</td>\n",
       "      <td>0.6</td>\n",
       "      <td>1</td>\n",
       "    </tr>\n",
       "    <tr>\n",
       "      <th>12119</th>\n",
       "      <td>2023-03-08</td>\n",
       "      <td>14.4</td>\n",
       "      <td>20.5</td>\n",
       "      <td>17.4</td>\n",
       "      <td>1011.6</td>\n",
       "      <td>1015.1</td>\n",
       "      <td>22.0</td>\n",
       "      <td>6.1</td>\n",
       "      <td>10.3</td>\n",
       "      <td>3.2</td>\n",
       "      <td>2.5</td>\n",
       "      <td>1</td>\n",
       "    </tr>\n",
       "    <tr>\n",
       "      <th>12120</th>\n",
       "      <td>2023-03-09</td>\n",
       "      <td>13.6</td>\n",
       "      <td>20.5</td>\n",
       "      <td>17.0</td>\n",
       "      <td>1013.7</td>\n",
       "      <td>1019.5</td>\n",
       "      <td>21.0</td>\n",
       "      <td>5.3</td>\n",
       "      <td>12.5</td>\n",
       "      <td>3.0</td>\n",
       "      <td>0.9</td>\n",
       "      <td>1</td>\n",
       "    </tr>\n",
       "    <tr>\n",
       "      <th>12121</th>\n",
       "      <td>2023-03-10</td>\n",
       "      <td>8.9</td>\n",
       "      <td>21.8</td>\n",
       "      <td>15.4</td>\n",
       "      <td>1019.2</td>\n",
       "      <td>1022.5</td>\n",
       "      <td>99.0</td>\n",
       "      <td>1.7</td>\n",
       "      <td>6.7</td>\n",
       "      <td>10.5</td>\n",
       "      <td>0.1</td>\n",
       "      <td>1</td>\n",
       "    </tr>\n",
       "    <tr>\n",
       "      <th>12122</th>\n",
       "      <td>2023-03-11</td>\n",
       "      <td>8.9</td>\n",
       "      <td>24.0</td>\n",
       "      <td>16.4</td>\n",
       "      <td>1018.7</td>\n",
       "      <td>1022.2</td>\n",
       "      <td>99.0</td>\n",
       "      <td>2.8</td>\n",
       "      <td>7.8</td>\n",
       "      <td>9.9</td>\n",
       "      <td>0.0</td>\n",
       "      <td>0</td>\n",
       "    </tr>\n",
       "    <tr>\n",
       "      <th>12123</th>\n",
       "      <td>2023-03-12</td>\n",
       "      <td>9.5</td>\n",
       "      <td>26.5</td>\n",
       "      <td>18.0</td>\n",
       "      <td>1014.1</td>\n",
       "      <td>1020.3</td>\n",
       "      <td>8.0</td>\n",
       "      <td>2.2</td>\n",
       "      <td>8.3</td>\n",
       "      <td>10.6</td>\n",
       "      <td>0.0</td>\n",
       "      <td>0</td>\n",
       "    </tr>\n",
       "  </tbody>\n",
       "</table>\n",
       "</div>"
      ],
      "text/plain": [
       "            fecha  tmin  tmax  tmed  presMin  presMax   dir  velmedia  racha  \\\n",
       "12117  2023-03-06  10.3  15.9  13.1   1008.7   1013.4  21.0       1.9    8.3   \n",
       "12118  2023-03-07  12.9  19.7  16.3   1009.8   1013.4  22.0       3.9   10.3   \n",
       "12119  2023-03-08  14.4  20.5  17.4   1011.6   1015.1  22.0       6.1   10.3   \n",
       "12120  2023-03-09  13.6  20.5  17.0   1013.7   1019.5  21.0       5.3   12.5   \n",
       "12121  2023-03-10   8.9  21.8  15.4   1019.2   1022.5  99.0       1.7    6.7   \n",
       "12122  2023-03-11   8.9  24.0  16.4   1018.7   1022.2  99.0       2.8    7.8   \n",
       "12123  2023-03-12   9.5  26.5  18.0   1014.1   1020.3   8.0       2.2    8.3   \n",
       "\n",
       "        sol  prec  target  \n",
       "12117   0.0   3.3       1  \n",
       "12118   3.2   0.6       1  \n",
       "12119   3.2   2.5       1  \n",
       "12120   3.0   0.9       1  \n",
       "12121  10.5   0.1       1  \n",
       "12122   9.9   0.0       0  \n",
       "12123  10.6   0.0       0  "
      ]
     },
     "execution_count": 1,
     "metadata": {},
     "output_type": "execute_result"
    }
   ],
   "source": [
    "import pandas as pd\n",
    "df = pd.read_csv('../data/processed/data_processed_1990_2023.csv')\n",
    "df.tail(7)"
   ]
  },
  {
   "attachments": {},
   "cell_type": "markdown",
   "metadata": {},
   "source": [
    "---"
   ]
  },
  {
   "attachments": {},
   "cell_type": "markdown",
   "metadata": {},
   "source": [
    "### EDA"
   ]
  },
  {
   "attachments": {},
   "cell_type": "markdown",
   "metadata": {},
   "source": [
    "- El EDA se realiza sobre las precipitaciones, pese a que se descartaron luego.\n",
    "- Obtenemos unos valores interesantes en la features importance:\n",
    "    - Los más relevantes según RF son la radiación solar y la presión atmosférica mínima.\n",
    "    - La presión atmosférica baja cuando se acerca un frente lluvioso, por lo que parece bastante revelador este feature.\n",
    "    - SelectKBest nos ratifica lo que veíamos sobre la radiación solar, aunque también da importancia a las rachas de viento. \n",
    "    - Ante cambios rápidos de presión atmosférica, se dan mayores rachas de viento, por lo que sigue teniendo sentido."
   ]
  },
  {
   "attachments": {},
   "cell_type": "markdown",
   "metadata": {},
   "source": [
    "---"
   ]
  },
  {
   "attachments": {},
   "cell_type": "markdown",
   "metadata": {},
   "source": [
    "### Feature Engineering"
   ]
  },
  {
   "attachments": {},
   "cell_type": "markdown",
   "metadata": {},
   "source": [
    "---"
   ]
  },
  {
   "attachments": {},
   "cell_type": "markdown",
   "metadata": {},
   "source": [
    "### Prueba de los modelos"
   ]
  },
  {
   "attachments": {},
   "cell_type": "markdown",
   "metadata": {},
   "source": [
    "---"
   ]
  },
  {
   "attachments": {},
   "cell_type": "markdown",
   "metadata": {},
   "source": [
    "### Interpretación de variables"
   ]
  },
  {
   "attachments": {},
   "cell_type": "markdown",
   "metadata": {},
   "source": [
    "---"
   ]
  }
 ],
 "metadata": {
  "kernelspec": {
   "display_name": "Python 3",
   "language": "python",
   "name": "python3"
  },
  "language_info": {
   "codemirror_mode": {
    "name": "ipython",
    "version": 3
   },
   "file_extension": ".py",
   "mimetype": "text/x-python",
   "name": "python",
   "nbconvert_exporter": "python",
   "pygments_lexer": "ipython3",
   "version": "3.7.4"
  },
  "orig_nbformat": 4
 },
 "nbformat": 4,
 "nbformat_minor": 2
}
